{
 "cells": [
  {
   "cell_type": "code",
   "execution_count": 1,
   "metadata": {},
   "outputs": [],
   "source": [
    "import pandas as pd\n",
    "import numpy as np\n",
    "from sklearn import preprocessing\n",
    "from sklearn.model_selection import train_test_split\n",
    "from sklearn.preprocessing import StandardScaler\n",
    "from sklearn.neural_network import MLPClassifier\n",
    "from sklearn.metrics import classification_report, confusion_matrix\n",
    "from sklearn import svm\n",
    "import sys"
   ]
  },
  {
   "cell_type": "markdown",
   "metadata": {},
   "source": [
    "### Problem 1"
   ]
  },
  {
   "cell_type": "markdown",
   "metadata": {},
   "source": [
    "Reference:\n",
    "https://www.youtube.com/watch?v=BOt1DAvR0zI\n",
    "\n",
    "1) Create a swap function that can swap any of the two elements in the array\n",
    "\n",
    "2) Since we want the array in the order of R, W and B, we will perform the following steps\n",
    "\n",
    "(a) initialize three variables, low, high and mid, which are corresponding to the different indices in the array\n",
    "\n",
    "(b) if the element is 'R', swaps it with the element that is in the middle index, increments the low and mid indices by 1\n",
    "\n",
    "(c) if the element is 'W', we increment the middle index by 1\n",
    "\n",
    "(d) if the element is 'B', swaps it with the element that is in the high index, decrements the high index by 1"
   ]
  },
  {
   "cell_type": "code",
   "execution_count": 2,
   "metadata": {},
   "outputs": [],
   "source": [
    "flag = ['W', 'B', 'R', 'W', 'R', 'B', 'R', 'W', 'R', 'B', 'B']"
   ]
  },
  {
   "cell_type": "code",
   "execution_count": 3,
   "metadata": {},
   "outputs": [],
   "source": [
    "def swap(array, index_1, index_2):\n",
    "    temp = array[index_1]\n",
    "    array[index_1] = array[index_2]\n",
    "    array[index_2] = temp"
   ]
  },
  {
   "cell_type": "code",
   "execution_count": 4,
   "metadata": {},
   "outputs": [],
   "source": [
    "def dutch_national_flag(flag):\n",
    "    low = 0\n",
    "    high = len(flag) - 1\n",
    "    mid = 0\n",
    "    \n",
    "    while (mid <= high): \n",
    "        if flag[mid] == 'R':\n",
    "            swap(flag, low, mid)\n",
    "            low += 1\n",
    "            mid += 1\n",
    "        elif flag[mid] == 'W':\n",
    "            mid += 1\n",
    "        elif flag[mid] == 'B':\n",
    "            swap(flag, mid, high)\n",
    "            high -= 1\n",
    "            \n",
    "    return flag"
   ]
  },
  {
   "cell_type": "code",
   "execution_count": 5,
   "metadata": {},
   "outputs": [
    {
     "data": {
      "text/plain": [
       "['R', 'R', 'R', 'R', 'W', 'W', 'W', 'B', 'B', 'B', 'B']"
      ]
     },
     "execution_count": 5,
     "metadata": {},
     "output_type": "execute_result"
    }
   ],
   "source": [
    "dutch_national_flag(flag)"
   ]
  },
  {
   "cell_type": "markdown",
   "metadata": {},
   "source": [
    "### Problem 2\n",
    "Reference: \n",
    "\n",
    "https://www.geeksforgeeks.org/merge-k-sorted-arrays/\n",
    "\n",
    "https://www.youtube.com/watch?v=WYAUQO7hk4I\n",
    "\n",
    "https://towardsdatascience.com/data-structure-heap-23d4c78a6962"
   ]
  },
  {
   "cell_type": "markdown",
   "metadata": {},
   "source": [
    "1) Implements a MinHeap class\n",
    "\n",
    "insert_key(): insert the new element from an array, do min_heapify on each of the inserted element\n",
    "\n",
    "min_heapify(): compares the current element with the left child, if the left child is smaller than the right child, change the smallest variable index to the left index, do the same thing for the right child, switch the corresponding elements\n",
    "\n",
    "get_root(): get the first element from the heap\n",
    "\n",
    "replace_root(): replace the original root with the current root\n",
    "\n",
    "print_heap(): print out the elements in the heap\n",
    "\n",
    "2) merged_sorted_array():\n",
    "- get the first element in each of the sorted array\n",
    "- append the largest value in the system to the end of each array\n",
    "- insert the first element in each of the sorted array to the heap\n",
    "- create a dictionary to keep track of the column index\n",
    "- get the minimum value from the heap, append it to the result\n",
    "- increment the column index by 1\n",
    "- remove the minumum element from the heap\n",
    "- insert the new element to the heap"
   ]
  },
  {
   "cell_type": "code",
   "execution_count": 6,
   "metadata": {},
   "outputs": [],
   "source": [
    "class minHeap:\n",
    "    def __init__(self):\n",
    "        self.heap = []\n",
    "    \n",
    "    def insert_key(self, key):\n",
    "        self.heap.append(key)\n",
    "        i = (len(self.heap) - 1) // 2\n",
    "        while i >= 0:\n",
    "            self.min_heapify(i)\n",
    "            i = i - 1\n",
    "    \n",
    "    def min_heapify(self, i):\n",
    "        size = len(self.heap) - 1\n",
    "        left_child = 2 * i + 1\n",
    "        right_child = 2 * i + 2\n",
    "        smallest = i\n",
    "        \n",
    "        if left_child <= size and self.heap[left_child] < self.heap[i]:\n",
    "            smallest = left_child\n",
    "        if right_child <= size and self.heap[right_child] < self.heap[smallest]:\n",
    "            smallest = right_child\n",
    "        if smallest != i:\n",
    "            self.heap[i], self.heap[smallest] = self.heap[smallest], self.heap[i]\n",
    "            self.min_heapify(smallest)\n",
    "            \n",
    "    def get_root(self):\n",
    "        return self.heap[0]\n",
    "    \n",
    "    def replace_root(self, root):\n",
    "        self.heap[0] = root\n",
    "        self.min_heapify(0)\n",
    "    \n",
    "    def print_heap(self):\n",
    "        print(self.heap)\n",
    "    \n",
    "    def remove_min(self):\n",
    "        self.heap.remove(self.heap[0])\n",
    "        \n",
    "    \n",
    "    "
   ]
  },
  {
   "cell_type": "code",
   "execution_count": 7,
   "metadata": {},
   "outputs": [],
   "source": [
    "def merged_sorted_array(array):\n",
    "        # get the first element in each of the sorted array\n",
    "        arr_element = {}\n",
    "        for i in range(len(array)):\n",
    "            arr_element[i] = array[i][0]\n",
    "        \n",
    "        # append the largest value in the system to the end of each array\n",
    "        for i in range(len(array)):\n",
    "            array[i].append(sys.maxsize)\n",
    "        \n",
    "        # insert the first element in each of the sorted array to the heap\n",
    "        for key, value in arr_element.items():\n",
    "            min_heap.insert_key(value)\n",
    "            \n",
    "        # create a dictionary to keep track of the column index\n",
    "        index_dict = {}\n",
    "        for i in range(len(array)):\n",
    "            index_dict[i] = 0\n",
    "        \n",
    "        \n",
    "        result = []\n",
    "        # get the minimum value from the heap, append it to the result\n",
    "        # increment the column index by 1\n",
    "        # remove the minumum element from the heap\n",
    "        # insert the new element to the heap\n",
    "        while index_dict[min(index_dict.keys(), key = (lambda k: index_dict[k]))] <= len(array[0]):\n",
    "            output_val = min_heap.get_root()\n",
    "            result.append(output_val)\n",
    "            index_val = list(arr_element.keys())[list(arr_element.values()).index(output_val)]\n",
    "            index_dict[index_val] += 1\n",
    "            arr_element[index_val] = array[index_val][index_dict[index_val]]\n",
    "            min_heap.remove_min()\n",
    "            min_heap.insert_key(arr_element[index_val])\n",
    "\n",
    "            if (int(index_dict[min(index_dict.keys(), key = (lambda k: index_dict[k]))]) == len(array[0]) - 1):\n",
    "                break\n",
    "        \n",
    "        return result\n",
    "    "
   ]
  },
  {
   "cell_type": "code",
   "execution_count": 8,
   "metadata": {},
   "outputs": [],
   "source": [
    "# create three sorted arrays\n",
    "array = [[20, 60, 120, 340], [100, 900, 2000, 10000], [23, 34, 90, 2000]] "
   ]
  },
  {
   "cell_type": "code",
   "execution_count": 9,
   "metadata": {},
   "outputs": [
    {
     "data": {
      "text/plain": [
       "[20, 23, 34, 60, 90, 100, 120, 340, 900, 2000, 2000, 10000]"
      ]
     },
     "execution_count": 9,
     "metadata": {},
     "output_type": "execute_result"
    }
   ],
   "source": [
    "min_heap = minHeap()\n",
    "merged_sorted_array(array)"
   ]
  },
  {
   "cell_type": "markdown",
   "metadata": {},
   "source": [
    "### Problem 4 (a)"
   ]
  },
  {
   "cell_type": "code",
   "execution_count": 10,
   "metadata": {},
   "outputs": [],
   "source": [
    "iris = pd.read_csv('iris.csv')"
   ]
  },
  {
   "cell_type": "code",
   "execution_count": 11,
   "metadata": {},
   "outputs": [],
   "source": [
    "# Use the data generated in Problem 3 from HW 3 after discussing with the classmates "
   ]
  },
  {
   "cell_type": "code",
   "execution_count": 12,
   "metadata": {},
   "outputs": [],
   "source": [
    "def gather_cov_matrix_class(Species, dataframe):\n",
    "    cov_matrix_class = dataframe[dataframe['Species'] == Species][['Sepal.Length', 'Sepal.Width', 'Petal.Length', 'Petal.Width']].cov()\n",
    "    cov_array_class = np.array(cov_matrix_class)\n",
    "    \n",
    "    average_list = []\n",
    "    feature_list = ['Sepal.Length', 'Sepal.Width', 'Petal.Length', 'Petal.Width']\n",
    "    \n",
    "    for feature in feature_list:\n",
    "        average_feature = np.mean(dataframe[dataframe['Species'] == Species][feature])\n",
    "        average_list.append(average_feature)\n",
    "    \n",
    "    average_array = np.array(average_list)\n",
    "    \n",
    "    new_array = np.random.multivariate_normal(average_array, cov_array_class, 50)\n",
    "    \n",
    "    final_df = pd.DataFrame(new_array, columns = ['Sepal.Length', 'Sepal.Width', 'Petal.Length', 'Petal.Width'])\n",
    "    \n",
    "    max_dict = dataframe[dataframe['Species'] == Species][['Sepal.Length', 'Sepal.Width', 'Petal.Length', 'Petal.Width']].max()\n",
    "    \n",
    "    min_dict = dataframe[dataframe['Species'] == Species][['Sepal.Length', 'Sepal.Width', 'Petal.Length', 'Petal.Width']].min()\n",
    "    \n",
    "    new_df = pd.DataFrame()\n",
    "    \n",
    "    for feature in feature_list:\n",
    "        new_df = pd.concat([new_df, np.clip(final_df[feature], min_dict[feature], max_dict[feature])], axis = 1)\n",
    "    \n",
    "    new_df.columns = ['Sepal.Length', 'Sepal.Width', 'Petal.Length', 'Petal.Width']\n",
    "    \n",
    "    return new_df\n",
    "    "
   ]
  },
  {
   "cell_type": "code",
   "execution_count": 13,
   "metadata": {},
   "outputs": [],
   "source": [
    "output_final_df = pd.DataFrame()\n",
    "\n",
    "for species in iris['Species'].unique():\n",
    "    output_final_df = pd.concat([output_final_df, gather_cov_matrix_class(species, iris)])"
   ]
  },
  {
   "cell_type": "code",
   "execution_count": 14,
   "metadata": {},
   "outputs": [],
   "source": [
    "generated_df = pd.merge(output_final_df.reset_index(drop = True), pd.DataFrame(iris[['Species']]).reset_index(drop = True), left_index=True, right_index=True)"
   ]
  },
  {
   "cell_type": "code",
   "execution_count": 15,
   "metadata": {},
   "outputs": [],
   "source": [
    "# the combined dataset using the iris data set and the data generated in Problem 3 from HW 3\n",
    "iris_generated = pd.concat([iris, generated_df], axis = 0).reset_index(drop = True)"
   ]
  },
  {
   "cell_type": "markdown",
   "metadata": {},
   "source": [
    "Feed Forward Neural Network\n",
    "\n",
    "Reference: https://stackabuse.com/introduction-to-neural-networks-with-scikit-learn/\n",
    "\n",
    "I followed all the steps in this blog and this reference is provided by a classmate in the homework discussion."
   ]
  },
  {
   "cell_type": "code",
   "execution_count": 16,
   "metadata": {},
   "outputs": [
    {
     "name": "stdout",
     "output_type": "stream",
     "text": [
      "              precision    recall  f1-score   support\n",
      "\n",
      "           0       1.00      1.00      1.00        27\n",
      "           1       1.00      0.86      0.92        35\n",
      "           2       0.85      1.00      0.92        28\n",
      "\n",
      "   micro avg       0.94      0.94      0.94        90\n",
      "   macro avg       0.95      0.95      0.95        90\n",
      "weighted avg       0.95      0.94      0.94        90\n",
      "\n"
     ]
    }
   ],
   "source": [
    "# Gather the X variable\n",
    "X = iris_generated.iloc[:, 0:4]\n",
    "\n",
    "# Gather the Y variable\n",
    "y = iris_generated.iloc[:, 4:]\n",
    "\n",
    "# Convert the categorical data into numerical data\n",
    "le = preprocessing.LabelEncoder()\n",
    "\n",
    "y = y.apply(le.fit_transform)\n",
    "\n",
    "# Create the training set and test set\n",
    "X_train, X_test, y_train, y_test = train_test_split(X, y, test_size = 0.3)\n",
    "\n",
    "scaler = StandardScaler()\n",
    "\n",
    "scaler.fit(X_train)\n",
    "\n",
    "X_train = scaler.transform(X_train)\n",
    "\n",
    "X_test = scaler.transform(X_test)\n",
    "\n",
    "mlp = MLPClassifier(hidden_layer_sizes = (10, 10, 10), max_iter = 1000)\n",
    "\n",
    "mlp.fit(X_train, y_train.values.ravel())\n",
    "\n",
    "predictions = mlp.predict(X_test)\n",
    "\n",
    "print(classification_report(y_test, predictions))"
   ]
  },
  {
   "cell_type": "markdown",
   "metadata": {},
   "source": [
    "### Problem 4 (b)"
   ]
  },
  {
   "cell_type": "code",
   "execution_count": 17,
   "metadata": {},
   "outputs": [
    {
     "name": "stdout",
     "output_type": "stream",
     "text": [
      "              precision    recall  f1-score   support\n",
      "\n",
      "           0       1.00      1.00      1.00        27\n",
      "           1       1.00      0.86      0.92        35\n",
      "           2       0.85      1.00      0.92        28\n",
      "\n",
      "   micro avg       0.94      0.94      0.94        90\n",
      "   macro avg       0.95      0.95      0.95        90\n",
      "weighted avg       0.95      0.94      0.94        90\n",
      "\n"
     ]
    },
    {
     "name": "stderr",
     "output_type": "stream",
     "text": [
      "/Users/jchen0325/anaconda3/lib/python3.7/site-packages/sklearn/utils/validation.py:761: DataConversionWarning: A column-vector y was passed when a 1d array was expected. Please change the shape of y to (n_samples, ), for example using ravel().\n",
      "  y = column_or_1d(y, warn=True)\n"
     ]
    }
   ],
   "source": [
    "clf = svm.SVC(gamma = 'scale', decision_function_shape='ovo')\n",
    "clf.fit(X_train, y_train)\n",
    "y_pred = clf.predict(X_test)\n",
    "print(classification_report(y_test, y_pred))"
   ]
  },
  {
   "cell_type": "code",
   "execution_count": null,
   "metadata": {},
   "outputs": [],
   "source": []
  }
 ],
 "metadata": {
  "kernelspec": {
   "display_name": "Python 3",
   "language": "python",
   "name": "python3"
  },
  "language_info": {
   "codemirror_mode": {
    "name": "ipython",
    "version": 3
   },
   "file_extension": ".py",
   "mimetype": "text/x-python",
   "name": "python",
   "nbconvert_exporter": "python",
   "pygments_lexer": "ipython3",
   "version": "3.7.1"
  }
 },
 "nbformat": 4,
 "nbformat_minor": 2
}
