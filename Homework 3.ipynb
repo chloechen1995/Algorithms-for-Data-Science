{
 "cells": [
  {
   "cell_type": "code",
   "execution_count": 156,
   "metadata": {},
   "outputs": [],
   "source": [
    "import pandas as pd\n",
    "import numpy as np\n",
    "from sklearn.preprocessing import LabelEncoder\n",
    "import matplotlib.pyplot as plt\n",
    "import matplotlib.patches as mpatches\n",
    "%matplotlib inline\n",
    "from sklearn.preprocessing import MinMaxScaler"
   ]
  },
  {
   "cell_type": "code",
   "execution_count": 2,
   "metadata": {},
   "outputs": [],
   "source": [
    "iris = pd.read_csv('iris.csv')"
   ]
  },
  {
   "cell_type": "code",
   "execution_count": 3,
   "metadata": {},
   "outputs": [],
   "source": [
    "dataframe = iris"
   ]
  },
  {
   "cell_type": "code",
   "execution_count": 4,
   "metadata": {},
   "outputs": [
    {
     "data": {
      "text/plain": [
       "Index(['Sepal.Length', 'Sepal.Width', 'Petal.Length', 'Petal.Width',\n",
       "       'Species'],\n",
       "      dtype='object')"
      ]
     },
     "execution_count": 4,
     "metadata": {},
     "output_type": "execute_result"
    }
   ],
   "source": [
    "iris.columns"
   ]
  },
  {
   "cell_type": "code",
   "execution_count": 5,
   "metadata": {},
   "outputs": [],
   "source": [
    "feature = 'Sepal.Length'"
   ]
  },
  {
   "cell_type": "code",
   "execution_count": 6,
   "metadata": {},
   "outputs": [],
   "source": [
    "def minimum(dataframe, feature, s):\n",
    "    minimum = dataframe[dataframe['Species'] == s].reset_index(drop = True)[feature][0]\n",
    "    for i in dataframe[dataframe['Species'] == s].reset_index(drop = True)[feature][1:]:\n",
    "        if i < minimum:\n",
    "            minimum = i\n",
    "    return minimum\n",
    "    "
   ]
  },
  {
   "cell_type": "code",
   "execution_count": 7,
   "metadata": {},
   "outputs": [],
   "source": [
    "def maximum(dataframe, feature, s):\n",
    "    maximum = dataframe[dataframe['Species'] == s].reset_index(drop = True)[feature][0]\n",
    "    for i in dataframe[dataframe['Species'] == s].reset_index(drop = True)[feature][1:]:\n",
    "        if i > maximum:\n",
    "            maximum = i\n",
    "    return maximum"
   ]
  },
  {
   "cell_type": "code",
   "execution_count": 8,
   "metadata": {},
   "outputs": [
    {
     "data": {
      "text/plain": [
       "3.8"
      ]
     },
     "execution_count": 8,
     "metadata": {},
     "output_type": "execute_result"
    }
   ],
   "source": [
    "maximum(iris, 'Sepal.Width', 'virginica')"
   ]
  },
  {
   "cell_type": "code",
   "execution_count": 9,
   "metadata": {},
   "outputs": [
    {
     "data": {
      "text/plain": [
       "2.2"
      ]
     },
     "execution_count": 9,
     "metadata": {},
     "output_type": "execute_result"
    }
   ],
   "source": [
    "minimum(iris, 'Sepal.Width', 'virginica')"
   ]
  },
  {
   "cell_type": "code",
   "execution_count": 10,
   "metadata": {},
   "outputs": [],
   "source": [
    "def average(dataframe, feature, s):\n",
    "    total = 0\n",
    "    for i in dataframe[dataframe['Species'] == s].reset_index(drop = True)[feature]:\n",
    "        total = total + i\n",
    "    average_num = total/len(dataframe[dataframe['Species'] == s].reset_index(drop = True)[feature])\n",
    "    return average_num"
   ]
  },
  {
   "cell_type": "code",
   "execution_count": 11,
   "metadata": {},
   "outputs": [
    {
     "data": {
      "text/plain": [
       "2.9739999999999998"
      ]
     },
     "execution_count": 11,
     "metadata": {},
     "output_type": "execute_result"
    }
   ],
   "source": [
    "average(iris, 'Sepal.Width', 'virginica')"
   ]
  },
  {
   "cell_type": "code",
   "execution_count": 12,
   "metadata": {},
   "outputs": [],
   "source": [
    "percen_trim = 0.1\n",
    "def trim_mean(dataframe, feature, percen_trim, s):\n",
    "    new_df = dataframe[dataframe['Species'] == s].reset_index(drop = True)\n",
    "    pos = int(len(dataframe[feature]) * percen_trim)\n",
    "    df = dataframe[feature].sort_values()[pos:-pos]\n",
    "    total = 0\n",
    "    for i in df:\n",
    "        total = total + i\n",
    "    average_num = total/len(df)\n",
    "    return average_num"
   ]
  },
  {
   "cell_type": "code",
   "execution_count": 13,
   "metadata": {},
   "outputs": [
    {
     "data": {
      "text/plain": [
       "3.0433333333333312"
      ]
     },
     "execution_count": 13,
     "metadata": {},
     "output_type": "execute_result"
    }
   ],
   "source": [
    "trim_mean(dataframe, 'Sepal.Width', percen_trim, 'virginica')"
   ]
  },
  {
   "cell_type": "code",
   "execution_count": 14,
   "metadata": {},
   "outputs": [],
   "source": [
    "def standard_deviation(dataframe, feature, s):\n",
    "    total = 0\n",
    "    new_df = new_df = dataframe[dataframe['Species'] == s].reset_index(drop = True)\n",
    "    for i in dataframe[dataframe['Species'] == s].reset_index(drop = True)[feature]:\n",
    "        total = total + (i - average(dataframe, feature, s))**2\n",
    "    total_n = total/len(new_df[feature])\n",
    "    result = total_n ** (1/2)\n",
    "    return result\n",
    "    \n",
    "    "
   ]
  },
  {
   "cell_type": "code",
   "execution_count": 15,
   "metadata": {},
   "outputs": [
    {
     "data": {
      "text/plain": [
       "0.319255383666431"
      ]
     },
     "execution_count": 15,
     "metadata": {},
     "output_type": "execute_result"
    }
   ],
   "source": [
    "standard_deviation(dataframe, 'Sepal.Width', 'virginica')"
   ]
  },
  {
   "cell_type": "code",
   "execution_count": 16,
   "metadata": {},
   "outputs": [],
   "source": [
    "def skewness(dataframe, feature, s):\n",
    "    total = 0\n",
    "    new_df = new_df = dataframe[dataframe['Species'] == s].reset_index(drop = True)\n",
    "    for i in dataframe[dataframe['Species'] == s].reset_index(drop = True)[feature]:\n",
    "        total = total + (i - average(dataframe, feature, s)) ** 3\n",
    "    result = (total /len(new_df[feature])) / (standard_deviation(dataframe, feature, s))**3\n",
    "    return result"
   ]
  },
  {
   "cell_type": "code",
   "execution_count": 17,
   "metadata": {},
   "outputs": [],
   "source": [
    "def kurtosis(dataframe, feature, s):\n",
    "    total = 0\n",
    "    new_df = new_df = dataframe[dataframe['Species'] == s].reset_index(drop = True)\n",
    "    for i in dataframe[dataframe['Species'] == s].reset_index(drop = True)[feature]:\n",
    "        total = total + (i - average(dataframe, feature, s)) ** 4\n",
    "    result = (total /len(new_df[feature])) / (standard_deviation(dataframe, feature, s))**4\n",
    "    return result"
   ]
  },
  {
   "cell_type": "code",
   "execution_count": 18,
   "metadata": {},
   "outputs": [
    {
     "data": {
      "text/plain": [
       "0.11444474247297226"
      ]
     },
     "execution_count": 18,
     "metadata": {},
     "output_type": "execute_result"
    }
   ],
   "source": [
    "skewness(dataframe, feature, 'virginica')"
   ]
  },
  {
   "cell_type": "code",
   "execution_count": 19,
   "metadata": {},
   "outputs": [
    {
     "data": {
      "text/plain": [
       "3.51976593549556"
      ]
     },
     "execution_count": 19,
     "metadata": {},
     "output_type": "execute_result"
    }
   ],
   "source": [
    "kurtosis(dataframe, 'Sepal.Width', 'virginica')"
   ]
  },
  {
   "cell_type": "code",
   "execution_count": null,
   "metadata": {},
   "outputs": [],
   "source": []
  },
  {
   "cell_type": "code",
   "execution_count": 20,
   "metadata": {},
   "outputs": [],
   "source": [
    "# Problem 2\n",
    "# Use Reference from https://sebastianraschka.com/Articles/2014_python_lda.html"
   ]
  },
  {
   "cell_type": "code",
   "execution_count": 21,
   "metadata": {},
   "outputs": [],
   "source": [
    "species_list = ['setosa', 'versicolor', 'virginica']"
   ]
  },
  {
   "cell_type": "code",
   "execution_count": 22,
   "metadata": {},
   "outputs": [],
   "source": [
    "feature_list = ['Sepal.Length', 'Sepal.Width', 'Petal.Length', 'Petal.Width']"
   ]
  },
  {
   "cell_type": "code",
   "execution_count": 23,
   "metadata": {},
   "outputs": [],
   "source": [
    "# create a vector to store the average feature value for each class\n",
    "final_vector = []\n",
    "for s in species_list:\n",
    "    mean_vectors = []\n",
    "    for f in feature_list:\n",
    "        mean_vectors.append(dataframe[dataframe['Species'] == s][f].mean())\n",
    "    final_vector.append(mean_vectors)"
   ]
  },
  {
   "cell_type": "code",
   "execution_count": 24,
   "metadata": {},
   "outputs": [],
   "source": [
    "output_vector = [np.array(x) for x in final_vector]"
   ]
  },
  {
   "cell_type": "code",
   "execution_count": 25,
   "metadata": {},
   "outputs": [
    {
     "data": {
      "text/plain": [
       "[array([5.006, 3.428, 1.462, 0.246]),\n",
       " array([5.936, 2.77 , 4.26 , 1.326]),\n",
       " array([6.588, 2.974, 5.552, 2.026])]"
      ]
     },
     "execution_count": 25,
     "metadata": {},
     "output_type": "execute_result"
    }
   ],
   "source": [
    "output_vector"
   ]
  },
  {
   "cell_type": "code",
   "execution_count": 26,
   "metadata": {},
   "outputs": [],
   "source": [
    "# calculate the within-class scatter matrix\n",
    "within_class_matrix = np.zeros((4, 4))\n",
    "for s, i in zip(species_list, output_vector):\n",
    "    class_matrix = np.zeros((4, 4))\n",
    "    for row in dataframe[dataframe['Species'] == s][['Sepal.Length', 'Sepal.Width', 'Petal.Length', 'Petal.Width']].values:\n",
    "        x_i = row.reshape(4,1)\n",
    "        m_i = i.reshape(4, 1)\n",
    "        class_matrix = class_matrix + (x_i - m_i).dot((x_i - m_i).T)\n",
    "    within_class_matrix = within_class_matrix + class_matrix\n",
    "    \n",
    "    "
   ]
  },
  {
   "cell_type": "code",
   "execution_count": 28,
   "metadata": {},
   "outputs": [],
   "source": [
    "# calculate the between-class scatter matrix\n",
    "feature_mean = [dataframe[f].mean() for f in feature_list]"
   ]
  },
  {
   "cell_type": "code",
   "execution_count": 30,
   "metadata": {},
   "outputs": [],
   "source": [
    "between_class_matrix = np.zeros((4, 4))\n",
    "for i, s in zip(output_vector, species_list):\n",
    "    m_i = i.reshape(4, 1)\n",
    "    final_feature_mean = np.array(feature_mean).reshape(4, 1)\n",
    "    between_class_matrix = between_class_matrix \n",
    "    + len(dataframe[dataframe['Species'] == s]) * (m_i - final_feature_mean).dot((m_i - final_feature_mean).T)\n"
   ]
  },
  {
   "cell_type": "code",
   "execution_count": 31,
   "metadata": {},
   "outputs": [
    {
     "data": {
      "text/plain": [
       "array([[ 63.21213333, -19.95266667, 165.2484    ,  71.27933333],\n",
       "       [-19.95266667,  11.34493333, -57.2396    , -22.93266667],\n",
       "       [165.2484    , -57.2396    , 437.1028    , 186.774     ],\n",
       "       [ 71.27933333, -22.93266667, 186.774     ,  80.41333333]])"
      ]
     },
     "execution_count": 31,
     "metadata": {},
     "output_type": "execute_result"
    }
   ],
   "source": [
    "between_class_matrix"
   ]
  },
  {
   "cell_type": "code",
   "execution_count": 32,
   "metadata": {},
   "outputs": [],
   "source": [
    "# gather the eigenvalues and eigenvectors\n",
    "eig_vals, eig_vecs = np.linalg.eig(np.linalg.inv(within_class_matrix).dot(between_class_matrix))"
   ]
  },
  {
   "cell_type": "code",
   "execution_count": 33,
   "metadata": {},
   "outputs": [],
   "source": [
    "eig_dict = dict(zip(eig_vals, eig_vecs))"
   ]
  },
  {
   "cell_type": "code",
   "execution_count": 34,
   "metadata": {},
   "outputs": [
    {
     "data": {
      "text/plain": [
       "array([ 0.20874182, -0.00653196, -0.84301057, -0.406295  ])"
      ]
     },
     "execution_count": 34,
     "metadata": {},
     "output_type": "execute_result"
    }
   ],
   "source": [
    "# get the eigenvectors with the largest eigenvalues\n",
    "eig_dict[max(eig_dict.keys())]"
   ]
  },
  {
   "cell_type": "code",
   "execution_count": 35,
   "metadata": {},
   "outputs": [],
   "source": [
    "key_list = sorted(eig_dict, reverse = True)[:2]"
   ]
  },
  {
   "cell_type": "code",
   "execution_count": 36,
   "metadata": {},
   "outputs": [],
   "source": [
    "eig_matrix = np.hstack((eig_dict[key_list[0]].reshape(4, 1), eig_dict[key_list[1]].reshape(4, 1)))"
   ]
  },
  {
   "cell_type": "code",
   "execution_count": 37,
   "metadata": {},
   "outputs": [],
   "source": [
    "data_val = dataframe[['Sepal.Length', 'Sepal.Width', 'Petal.Length', 'Petal.Width']].values"
   ]
  },
  {
   "cell_type": "code",
   "execution_count": 38,
   "metadata": {},
   "outputs": [],
   "source": [
    "data_lda = data_val.dot(eig_matrix)"
   ]
  },
  {
   "cell_type": "code",
   "execution_count": 302,
   "metadata": {},
   "outputs": [],
   "source": [
    "# Problem 3"
   ]
  },
  {
   "cell_type": "code",
   "execution_count": 304,
   "metadata": {},
   "outputs": [
    {
     "data": {
      "text/plain": [
       "array(['setosa', 'versicolor', 'virginica'], dtype=object)"
      ]
     },
     "execution_count": 304,
     "metadata": {},
     "output_type": "execute_result"
    }
   ],
   "source": [
    "dataframe['Species'].unique()"
   ]
  },
  {
   "cell_type": "code",
   "execution_count": 339,
   "metadata": {},
   "outputs": [],
   "source": [
    "Species = 'setosa'"
   ]
  },
  {
   "cell_type": "code",
   "execution_count": 340,
   "metadata": {},
   "outputs": [],
   "source": [
    "def gather_cov_matrix_class(Species):\n",
    "    cov_matrix_class \n",
    "    = dataframe[dataframe['Species'] == Species][['Sepal.Length', 'Sepal.Width', 'Petal.Length', 'Petal.Width']].cov()\n",
    "    cov_array_class = np.array(cov_matrix_class)\n",
    "    return cov_array_class"
   ]
  },
  {
   "cell_type": "code",
   "execution_count": 342,
   "metadata": {},
   "outputs": [],
   "source": [
    "cov_array_class = gather_cov_matrix_class(Species)"
   ]
  },
  {
   "cell_type": "code",
   "execution_count": 343,
   "metadata": {},
   "outputs": [
    {
     "data": {
      "text/plain": [
       "array([[0.12424898, 0.09921633, 0.0163551 , 0.01033061],\n",
       "       [0.09921633, 0.1436898 , 0.01169796, 0.00929796],\n",
       "       [0.0163551 , 0.01169796, 0.03015918, 0.00606939],\n",
       "       [0.01033061, 0.00929796, 0.00606939, 0.01110612]])"
      ]
     },
     "execution_count": 343,
     "metadata": {},
     "output_type": "execute_result"
    }
   ],
   "source": [
    "cov_array_class"
   ]
  },
  {
   "cell_type": "code",
   "execution_count": 344,
   "metadata": {},
   "outputs": [],
   "source": [
    "average_list = []\n",
    "for feature in feature_list:\n",
    "        average_feature = np.mean(dataframe[dataframe['Species'] == Species][feature])\n",
    "        std_feature = np.std(dataframe[dataframe['Species'] == Species][feature])\n",
    "        average_list.append(average_feature)"
   ]
  },
  {
   "cell_type": "code",
   "execution_count": 345,
   "metadata": {},
   "outputs": [],
   "source": [
    "average_array = np.array(average_list)"
   ]
  },
  {
   "cell_type": "code",
   "execution_count": 346,
   "metadata": {},
   "outputs": [
    {
     "data": {
      "text/plain": [
       "array([5.006, 3.428, 1.462, 0.246])"
      ]
     },
     "execution_count": 346,
     "metadata": {},
     "output_type": "execute_result"
    }
   ],
   "source": [
    "average_array"
   ]
  },
  {
   "cell_type": "code",
   "execution_count": 347,
   "metadata": {},
   "outputs": [
    {
     "data": {
      "text/plain": [
       "array([[0.12424898, 0.09921633, 0.0163551 , 0.01033061],\n",
       "       [0.09921633, 0.1436898 , 0.01169796, 0.00929796],\n",
       "       [0.0163551 , 0.01169796, 0.03015918, 0.00606939],\n",
       "       [0.01033061, 0.00929796, 0.00606939, 0.01110612]])"
      ]
     },
     "execution_count": 347,
     "metadata": {},
     "output_type": "execute_result"
    }
   ],
   "source": [
    "cov_array_class"
   ]
  },
  {
   "cell_type": "code",
   "execution_count": 348,
   "metadata": {},
   "outputs": [],
   "source": [
    "new_array = np.random.multivariate_normal(average_array, cov_array_class, 100)"
   ]
  },
  {
   "cell_type": "code",
   "execution_count": 349,
   "metadata": {},
   "outputs": [],
   "source": [
    "final_df = pd.DataFrame(new_array, columns = ['Sepal.Length', 'Sepal.Width', 'Petal.Length', 'Petal.Width'])"
   ]
  },
  {
   "cell_type": "code",
   "execution_count": 350,
   "metadata": {},
   "outputs": [],
   "source": [
    "max_dict \n",
    "= dataframe[dataframe['Species'] == Species][['Sepal.Length', 'Sepal.Width', 'Petal.Length', 'Petal.Width']].max()"
   ]
  },
  {
   "cell_type": "code",
   "execution_count": 351,
   "metadata": {},
   "outputs": [],
   "source": [
    "min_dict \n",
    "= dataframe[dataframe['Species'] == Species][['Sepal.Length', 'Sepal.Width', 'Petal.Length', 'Petal.Width']].min()"
   ]
  },
  {
   "cell_type": "code",
   "execution_count": 352,
   "metadata": {},
   "outputs": [],
   "source": [
    "new_df = pd.DataFrame()\n",
    "for feature in feature_list:\n",
    "    new_df = pd.concat([new_df, np.clip(final_df[feature], min_dict[feature], max_dict[feature])], axis = 1)"
   ]
  },
  {
   "cell_type": "code",
   "execution_count": 353,
   "metadata": {},
   "outputs": [],
   "source": [
    "def graph_feature_synthetic(feature_1, feature_2, Species):\n",
    "    fig, ax = plt.subplots(figsize = (10, 5))\n",
    "    ax.scatter(dataframe[dataframe['Species'] == Species][feature_1], dataframe[dataframe['Species'] == Species][feature_2], color = 'red')\n",
    "    ax.scatter(new_df[feature_1], new_df[feature_2], color = 'blue')\n",
    "    ax.set_title(feature_1 + ' vs ' + feature_2 + ' - Synthetic Data (blue) vs Iris Data (red) for ' + Species)\n",
    "    ax.set_xlabel(feature_1)\n",
    "    ax.set_ylabel(feature_2)\n",
    "    ax.spines['top'].set_visible(False)\n",
    "    ax.spines['right'].set_visible(False)"
   ]
  },
  {
   "cell_type": "code",
   "execution_count": 354,
   "metadata": {},
   "outputs": [
    {
     "data": {
      "image/png": "[encoded data removed]",
      "text/plain": [
       "<Figure size 720x360 with 1 Axes>"
      ]
     },
     "metadata": {},
     "output_type": "display_data"
    }
   ],
   "source": [
    "feature_1 = 'Sepal.Length'\n",
    "feature_2 = 'Sepal.Width'\n",
    "graph_feature_synthetic(feature_1, feature_2, Species)"
   ]
  },
  {
   "cell_type": "code",
   "execution_count": 355,
   "metadata": {},
   "outputs": [
    {
     "data": {
      "image/png": "[encoded data removed]",
      "text/plain": [
       "<Figure size 720x360 with 1 Axes>"
      ]
     },
     "metadata": {},
     "output_type": "display_data"
    }
   ],
   "source": [
    "feature_1 = 'Petal.Length'\n",
    "feature_2 = 'Petal.Width'\n",
    "graph_feature_synthetic(feature_1, feature_2, Species)"
   ]
  },
  {
   "cell_type": "code",
   "execution_count": null,
   "metadata": {},
   "outputs": [],
   "source": []
  },
  {
   "cell_type": "code",
   "execution_count": null,
   "metadata": {},
   "outputs": [],
   "source": []
  },
  {
   "cell_type": "code",
   "execution_count": null,
   "metadata": {},
   "outputs": [],
   "source": []
  },
  {
   "cell_type": "code",
   "execution_count": null,
   "metadata": {},
   "outputs": [],
   "source": []
  },
  {
   "cell_type": "code",
   "execution_count": 137,
   "metadata": {},
   "outputs": [
    {
     "data": {
      "text/plain": [
       "array(['setosa', 'versicolor', 'virginica'], dtype=object)"
      ]
     },
     "execution_count": 137,
     "metadata": {},
     "output_type": "execute_result"
    }
   ],
   "source": [
    "dataframe['Species'].unique()"
   ]
  },
  {
   "cell_type": "code",
   "execution_count": 174,
   "metadata": {},
   "outputs": [],
   "source": [
    "Species = 'setosa'\n",
    "cov_matrix_class = dataframe[dataframe['Species'] == Species][['Sepal.Length', 'Sepal.Width', 'Petal.Length', 'Petal.Width']].cov()"
   ]
  },
  {
   "cell_type": "code",
   "execution_count": 177,
   "metadata": {},
   "outputs": [],
   "source": [
    "def gather_cov_matrix_class(Species):\n",
    "    cov_matrix_class = dataframe[dataframe['Species'] == Species][['Sepal.Length', 'Sepal.Width', 'Petal.Length', 'Petal.Width']].cov()\n",
    "    cov_array_class = np.array(cov_matrix_class)\n",
    "    return cov_array_class"
   ]
  },
  {
   "cell_type": "code",
   "execution_count": 184,
   "metadata": {},
   "outputs": [
    {
     "data": {
      "text/plain": [
       "array([[0.12424898, 0.09921633, 0.0163551 , 0.01033061],\n",
       "       [0.09921633, 0.1436898 , 0.01169796, 0.00929796],\n",
       "       [0.0163551 , 0.01169796, 0.03015918, 0.00606939],\n",
       "       [0.01033061, 0.00929796, 0.00606939, 0.01110612]])"
      ]
     },
     "execution_count": 184,
     "metadata": {},
     "output_type": "execute_result"
    }
   ],
   "source": [
    "gather_cov_matrix_class(Species)"
   ]
  },
  {
   "cell_type": "code",
   "execution_count": null,
   "metadata": {},
   "outputs": [],
   "source": [
    "average_feature = np.mean(dataframe[dataframe['Species'] == 'setosa'][feature])"
   ]
  },
  {
   "cell_type": "code",
   "execution_count": 179,
   "metadata": {},
   "outputs": [],
   "source": [
    "feature_list = ['Sepal.Length', 'Sepal.Width', 'Petal.Length', 'Petal.Width']"
   ]
  },
  {
   "cell_type": "code",
   "execution_count": 180,
   "metadata": {},
   "outputs": [],
   "source": [
    "fea_list = []\n",
    "for s in species_list:\n",
    "    for feature in feature_list:\n",
    "        average_feature = np.mean(dataframe[dataframe['Species'] == s][feature])\n",
    "        std_feature = np.std(dataframe[dataframe['Species'] == s][feature])\n",
    "        stack_df = np.vstack(np.random.normal(average_feature, std_feature, (100, 1)))\n",
    "        fea_list.append(stack_df)"
   ]
  },
  {
   "cell_type": "code",
   "execution_count": 182,
   "metadata": {
    "scrolled": true
   },
   "outputs": [],
   "source": [
    "setosa_stack = fea_list[0].reshape(100, 1)\n",
    "\n",
    "for i in fea_list[1:4]:\n",
    "    new_array = i.reshape(100, 1)\n",
    "    setosa_stack = np.concatenate((setosa_stack, new_array), axis = 1)"
   ]
  },
  {
   "cell_type": "code",
   "execution_count": 146,
   "metadata": {},
   "outputs": [
    {
     "name": "stdout",
     "output_type": "stream",
     "text": [
      "setosa Sepal.Length 5.006 0.3489469873777391\n",
      "setosa Sepal.Width 3.428 0.37525458025186054\n",
      "setosa Petal.Length 1.4620000000000002 0.17191858538273283\n",
      "setosa Petal.Width 0.24599999999999997 0.1043264108459598\n",
      "versicolor Sepal.Length 5.936 0.5109833656783751\n",
      "versicolor Sepal.Width 2.7700000000000005 0.31064449134018135\n",
      "versicolor Petal.Length 4.26 0.4651881339845203\n",
      "versicolor Petal.Width 1.3259999999999998 0.19576516544063705\n",
      "virginica Sepal.Length 6.587999999999998 0.6294886813914926\n",
      "virginica Sepal.Width 2.974 0.3192553836664309\n",
      "virginica Petal.Length 5.5520000000000005 0.546347874526844\n",
      "virginica Petal.Width 2.0260000000000002 0.2718896835115301\n"
     ]
    }
   ],
   "source": [
    "fea_list = []\n",
    "for s in species_list:\n",
    "    for feature in feature_list:\n",
    "        average_feature = np.mean(dataframe[dataframe['Species'] == s][feature])\n",
    "        std_feature = np.std(dataframe[dataframe['Species'] == s][feature])\n",
    "        print(s, feature, average_feature, std_feature)"
   ]
  },
  {
   "cell_type": "code",
   "execution_count": 183,
   "metadata": {},
   "outputs": [],
   "source": [
    "generated_array = setosa_stack.dot(cov_matrix_class)"
   ]
  },
  {
   "cell_type": "code",
   "execution_count": null,
   "metadata": {},
   "outputs": [],
   "source": [
    "fea_list = []\n",
    "for s in species_list:\n",
    "    for feature in feature_list:\n",
    "        average_feature = np.mean(dataframe[dataframe['Species'] == s][feature])\n",
    "        stack_df = np.vstack(np.random.multivariate_normal(average_feature, std_feature, (100)))\n",
    "        fea_list.append(stack_df)"
   ]
  },
  {
   "cell_type": "code",
   "execution_count": 172,
   "metadata": {},
   "outputs": [],
   "source": [
    "final_df = pd.DataFrame(generated_array, columns = ['Sepal.Length', 'Sepal.Width', 'Petal.Length', 'Petal.Width'])"
   ]
  },
  {
   "cell_type": "code",
   "execution_count": 173,
   "metadata": {},
   "outputs": [
    {
     "data": {
      "text/html": [
       "<div>\n",
       "<style scoped>\n",
       "    .dataframe tbody tr th:only-of-type {\n",
       "        vertical-align: middle;\n",
       "    }\n",
       "\n",
       "    .dataframe tbody tr th {\n",
       "        vertical-align: top;\n",
       "    }\n",
       "\n",
       "    .dataframe thead th {\n",
       "        text-align: right;\n",
       "    }\n",
       "</style>\n",
       "<table border=\"1\" class=\"dataframe\">\n",
       "  <thead>\n",
       "    <tr style=\"text-align: right;\">\n",
       "      <th></th>\n",
       "      <th>Sepal.Length</th>\n",
       "      <th>Sepal.Width</th>\n",
       "      <th>Petal.Length</th>\n",
       "      <th>Petal.Width</th>\n",
       "    </tr>\n",
       "  </thead>\n",
       "  <tbody>\n",
       "    <tr>\n",
       "      <th>0</th>\n",
       "      <td>1.057901</td>\n",
       "      <td>1.117734</td>\n",
       "      <td>0.173023</td>\n",
       "      <td>0.102757</td>\n",
       "    </tr>\n",
       "    <tr>\n",
       "      <th>1</th>\n",
       "      <td>0.863740</td>\n",
       "      <td>0.870338</td>\n",
       "      <td>0.152900</td>\n",
       "      <td>0.085246</td>\n",
       "    </tr>\n",
       "    <tr>\n",
       "      <th>2</th>\n",
       "      <td>1.016088</td>\n",
       "      <td>1.044433</td>\n",
       "      <td>0.163492</td>\n",
       "      <td>0.097355</td>\n",
       "    </tr>\n",
       "    <tr>\n",
       "      <th>3</th>\n",
       "      <td>0.956690</td>\n",
       "      <td>0.972491</td>\n",
       "      <td>0.158712</td>\n",
       "      <td>0.090433</td>\n",
       "    </tr>\n",
       "    <tr>\n",
       "      <th>4</th>\n",
       "      <td>0.885750</td>\n",
       "      <td>0.881447</td>\n",
       "      <td>0.153964</td>\n",
       "      <td>0.084819</td>\n",
       "    </tr>\n",
       "    <tr>\n",
       "      <th>5</th>\n",
       "      <td>0.945689</td>\n",
       "      <td>0.960318</td>\n",
       "      <td>0.164137</td>\n",
       "      <td>0.090509</td>\n",
       "    </tr>\n",
       "    <tr>\n",
       "      <th>6</th>\n",
       "      <td>1.060098</td>\n",
       "      <td>1.082529</td>\n",
       "      <td>0.179663</td>\n",
       "      <td>0.100566</td>\n",
       "    </tr>\n",
       "    <tr>\n",
       "      <th>7</th>\n",
       "      <td>0.946054</td>\n",
       "      <td>0.973571</td>\n",
       "      <td>0.154197</td>\n",
       "      <td>0.089420</td>\n",
       "    </tr>\n",
       "    <tr>\n",
       "      <th>8</th>\n",
       "      <td>0.937658</td>\n",
       "      <td>0.969411</td>\n",
       "      <td>0.154940</td>\n",
       "      <td>0.088958</td>\n",
       "    </tr>\n",
       "    <tr>\n",
       "      <th>9</th>\n",
       "      <td>0.957878</td>\n",
       "      <td>0.992632</td>\n",
       "      <td>0.167878</td>\n",
       "      <td>0.093523</td>\n",
       "    </tr>\n",
       "    <tr>\n",
       "      <th>10</th>\n",
       "      <td>0.983474</td>\n",
       "      <td>1.010879</td>\n",
       "      <td>0.169159</td>\n",
       "      <td>0.095283</td>\n",
       "    </tr>\n",
       "    <tr>\n",
       "      <th>11</th>\n",
       "      <td>0.985349</td>\n",
       "      <td>1.016767</td>\n",
       "      <td>0.161516</td>\n",
       "      <td>0.095230</td>\n",
       "    </tr>\n",
       "    <tr>\n",
       "      <th>12</th>\n",
       "      <td>0.937886</td>\n",
       "      <td>0.960006</td>\n",
       "      <td>0.156718</td>\n",
       "      <td>0.090199</td>\n",
       "    </tr>\n",
       "    <tr>\n",
       "      <th>13</th>\n",
       "      <td>1.011329</td>\n",
       "      <td>1.038164</td>\n",
       "      <td>0.171904</td>\n",
       "      <td>0.096254</td>\n",
       "    </tr>\n",
       "    <tr>\n",
       "      <th>14</th>\n",
       "      <td>1.021166</td>\n",
       "      <td>1.038239</td>\n",
       "      <td>0.175619</td>\n",
       "      <td>0.098263</td>\n",
       "    </tr>\n",
       "    <tr>\n",
       "      <th>15</th>\n",
       "      <td>0.895966</td>\n",
       "      <td>0.903183</td>\n",
       "      <td>0.157238</td>\n",
       "      <td>0.087462</td>\n",
       "    </tr>\n",
       "    <tr>\n",
       "      <th>16</th>\n",
       "      <td>1.036609</td>\n",
       "      <td>1.051496</td>\n",
       "      <td>0.172807</td>\n",
       "      <td>0.100323</td>\n",
       "    </tr>\n",
       "    <tr>\n",
       "      <th>17</th>\n",
       "      <td>1.027340</td>\n",
       "      <td>1.098251</td>\n",
       "      <td>0.164818</td>\n",
       "      <td>0.098686</td>\n",
       "    </tr>\n",
       "    <tr>\n",
       "      <th>18</th>\n",
       "      <td>0.942028</td>\n",
       "      <td>0.957634</td>\n",
       "      <td>0.161804</td>\n",
       "      <td>0.093311</td>\n",
       "    </tr>\n",
       "    <tr>\n",
       "      <th>19</th>\n",
       "      <td>1.075940</td>\n",
       "      <td>1.094296</td>\n",
       "      <td>0.173882</td>\n",
       "      <td>0.101766</td>\n",
       "    </tr>\n",
       "    <tr>\n",
       "      <th>20</th>\n",
       "      <td>0.975622</td>\n",
       "      <td>1.015358</td>\n",
       "      <td>0.162055</td>\n",
       "      <td>0.094180</td>\n",
       "    </tr>\n",
       "    <tr>\n",
       "      <th>21</th>\n",
       "      <td>1.034843</td>\n",
       "      <td>1.053836</td>\n",
       "      <td>0.178161</td>\n",
       "      <td>0.100231</td>\n",
       "    </tr>\n",
       "    <tr>\n",
       "      <th>22</th>\n",
       "      <td>0.923101</td>\n",
       "      <td>0.940973</td>\n",
       "      <td>0.158092</td>\n",
       "      <td>0.089080</td>\n",
       "    </tr>\n",
       "    <tr>\n",
       "      <th>23</th>\n",
       "      <td>1.082109</td>\n",
       "      <td>1.109127</td>\n",
       "      <td>0.175327</td>\n",
       "      <td>0.103387</td>\n",
       "    </tr>\n",
       "    <tr>\n",
       "      <th>24</th>\n",
       "      <td>1.021831</td>\n",
       "      <td>1.039198</td>\n",
       "      <td>0.173402</td>\n",
       "      <td>0.097256</td>\n",
       "    </tr>\n",
       "    <tr>\n",
       "      <th>25</th>\n",
       "      <td>1.050664</td>\n",
       "      <td>1.090968</td>\n",
       "      <td>0.178518</td>\n",
       "      <td>0.101184</td>\n",
       "    </tr>\n",
       "    <tr>\n",
       "      <th>26</th>\n",
       "      <td>1.001470</td>\n",
       "      <td>0.998082</td>\n",
       "      <td>0.176705</td>\n",
       "      <td>0.096737</td>\n",
       "    </tr>\n",
       "    <tr>\n",
       "      <th>27</th>\n",
       "      <td>1.051543</td>\n",
       "      <td>1.105778</td>\n",
       "      <td>0.181146</td>\n",
       "      <td>0.104206</td>\n",
       "    </tr>\n",
       "    <tr>\n",
       "      <th>28</th>\n",
       "      <td>1.031900</td>\n",
       "      <td>1.075116</td>\n",
       "      <td>0.167967</td>\n",
       "      <td>0.099095</td>\n",
       "    </tr>\n",
       "    <tr>\n",
       "      <th>29</th>\n",
       "      <td>1.060151</td>\n",
       "      <td>1.091605</td>\n",
       "      <td>0.178208</td>\n",
       "      <td>0.101444</td>\n",
       "    </tr>\n",
       "    <tr>\n",
       "      <th>...</th>\n",
       "      <td>...</td>\n",
       "      <td>...</td>\n",
       "      <td>...</td>\n",
       "      <td>...</td>\n",
       "    </tr>\n",
       "    <tr>\n",
       "      <th>70</th>\n",
       "      <td>0.984672</td>\n",
       "      <td>1.025297</td>\n",
       "      <td>0.167671</td>\n",
       "      <td>0.096040</td>\n",
       "    </tr>\n",
       "    <tr>\n",
       "      <th>71</th>\n",
       "      <td>1.067682</td>\n",
       "      <td>1.121351</td>\n",
       "      <td>0.178910</td>\n",
       "      <td>0.103292</td>\n",
       "    </tr>\n",
       "    <tr>\n",
       "      <th>72</th>\n",
       "      <td>0.964865</td>\n",
       "      <td>0.974647</td>\n",
       "      <td>0.160777</td>\n",
       "      <td>0.091813</td>\n",
       "    </tr>\n",
       "    <tr>\n",
       "      <th>73</th>\n",
       "      <td>0.959438</td>\n",
       "      <td>0.985726</td>\n",
       "      <td>0.162777</td>\n",
       "      <td>0.093894</td>\n",
       "    </tr>\n",
       "    <tr>\n",
       "      <th>74</th>\n",
       "      <td>1.040545</td>\n",
       "      <td>1.086273</td>\n",
       "      <td>0.180405</td>\n",
       "      <td>0.101005</td>\n",
       "    </tr>\n",
       "    <tr>\n",
       "      <th>75</th>\n",
       "      <td>1.002791</td>\n",
       "      <td>1.005122</td>\n",
       "      <td>0.166048</td>\n",
       "      <td>0.095739</td>\n",
       "    </tr>\n",
       "    <tr>\n",
       "      <th>76</th>\n",
       "      <td>0.989936</td>\n",
       "      <td>1.014758</td>\n",
       "      <td>0.169477</td>\n",
       "      <td>0.096129</td>\n",
       "    </tr>\n",
       "    <tr>\n",
       "      <th>77</th>\n",
       "      <td>0.934893</td>\n",
       "      <td>0.947414</td>\n",
       "      <td>0.155152</td>\n",
       "      <td>0.089814</td>\n",
       "    </tr>\n",
       "    <tr>\n",
       "      <th>78</th>\n",
       "      <td>1.077393</td>\n",
       "      <td>1.141529</td>\n",
       "      <td>0.176818</td>\n",
       "      <td>0.102831</td>\n",
       "    </tr>\n",
       "    <tr>\n",
       "      <th>79</th>\n",
       "      <td>1.087388</td>\n",
       "      <td>1.126647</td>\n",
       "      <td>0.183400</td>\n",
       "      <td>0.105623</td>\n",
       "    </tr>\n",
       "    <tr>\n",
       "      <th>80</th>\n",
       "      <td>1.107945</td>\n",
       "      <td>1.133579</td>\n",
       "      <td>0.179040</td>\n",
       "      <td>0.105378</td>\n",
       "    </tr>\n",
       "    <tr>\n",
       "      <th>81</th>\n",
       "      <td>1.032982</td>\n",
       "      <td>1.102440</td>\n",
       "      <td>0.163067</td>\n",
       "      <td>0.097760</td>\n",
       "    </tr>\n",
       "    <tr>\n",
       "      <th>82</th>\n",
       "      <td>1.029021</td>\n",
       "      <td>1.061555</td>\n",
       "      <td>0.173274</td>\n",
       "      <td>0.097591</td>\n",
       "    </tr>\n",
       "    <tr>\n",
       "      <th>83</th>\n",
       "      <td>0.979335</td>\n",
       "      <td>0.995474</td>\n",
       "      <td>0.168643</td>\n",
       "      <td>0.095520</td>\n",
       "    </tr>\n",
       "    <tr>\n",
       "      <th>84</th>\n",
       "      <td>1.006090</td>\n",
       "      <td>1.029208</td>\n",
       "      <td>0.174018</td>\n",
       "      <td>0.096170</td>\n",
       "    </tr>\n",
       "    <tr>\n",
       "      <th>85</th>\n",
       "      <td>1.009589</td>\n",
       "      <td>1.067582</td>\n",
       "      <td>0.167847</td>\n",
       "      <td>0.098346</td>\n",
       "    </tr>\n",
       "    <tr>\n",
       "      <th>86</th>\n",
       "      <td>0.952149</td>\n",
       "      <td>0.986085</td>\n",
       "      <td>0.163527</td>\n",
       "      <td>0.091505</td>\n",
       "    </tr>\n",
       "    <tr>\n",
       "      <th>87</th>\n",
       "      <td>0.946244</td>\n",
       "      <td>0.938415</td>\n",
       "      <td>0.162014</td>\n",
       "      <td>0.089709</td>\n",
       "    </tr>\n",
       "    <tr>\n",
       "      <th>88</th>\n",
       "      <td>0.984056</td>\n",
       "      <td>0.993144</td>\n",
       "      <td>0.167357</td>\n",
       "      <td>0.095813</td>\n",
       "    </tr>\n",
       "    <tr>\n",
       "      <th>89</th>\n",
       "      <td>0.937259</td>\n",
       "      <td>0.945337</td>\n",
       "      <td>0.166012</td>\n",
       "      <td>0.091039</td>\n",
       "    </tr>\n",
       "    <tr>\n",
       "      <th>90</th>\n",
       "      <td>0.923161</td>\n",
       "      <td>0.921061</td>\n",
       "      <td>0.160222</td>\n",
       "      <td>0.090270</td>\n",
       "    </tr>\n",
       "    <tr>\n",
       "      <th>91</th>\n",
       "      <td>0.982137</td>\n",
       "      <td>0.960484</td>\n",
       "      <td>0.167928</td>\n",
       "      <td>0.093953</td>\n",
       "    </tr>\n",
       "    <tr>\n",
       "      <th>92</th>\n",
       "      <td>0.941598</td>\n",
       "      <td>0.957713</td>\n",
       "      <td>0.159436</td>\n",
       "      <td>0.092648</td>\n",
       "    </tr>\n",
       "    <tr>\n",
       "      <th>93</th>\n",
       "      <td>1.063275</td>\n",
       "      <td>1.069848</td>\n",
       "      <td>0.178551</td>\n",
       "      <td>0.103257</td>\n",
       "    </tr>\n",
       "    <tr>\n",
       "      <th>94</th>\n",
       "      <td>1.026641</td>\n",
       "      <td>1.071219</td>\n",
       "      <td>0.163736</td>\n",
       "      <td>0.097084</td>\n",
       "    </tr>\n",
       "    <tr>\n",
       "      <th>95</th>\n",
       "      <td>1.025142</td>\n",
       "      <td>1.036670</td>\n",
       "      <td>0.174401</td>\n",
       "      <td>0.098826</td>\n",
       "    </tr>\n",
       "    <tr>\n",
       "      <th>96</th>\n",
       "      <td>0.932442</td>\n",
       "      <td>0.944133</td>\n",
       "      <td>0.158445</td>\n",
       "      <td>0.087067</td>\n",
       "    </tr>\n",
       "    <tr>\n",
       "      <th>97</th>\n",
       "      <td>0.980943</td>\n",
       "      <td>0.993095</td>\n",
       "      <td>0.170009</td>\n",
       "      <td>0.094593</td>\n",
       "    </tr>\n",
       "    <tr>\n",
       "      <th>98</th>\n",
       "      <td>0.933822</td>\n",
       "      <td>0.930244</td>\n",
       "      <td>0.170800</td>\n",
       "      <td>0.092771</td>\n",
       "    </tr>\n",
       "    <tr>\n",
       "      <th>99</th>\n",
       "      <td>1.001347</td>\n",
       "      <td>1.026363</td>\n",
       "      <td>0.171895</td>\n",
       "      <td>0.096993</td>\n",
       "    </tr>\n",
       "  </tbody>\n",
       "</table>\n",
       "<p>100 rows × 4 columns</p>\n",
       "</div>"
      ],
      "text/plain": [
       "    Sepal.Length  Sepal.Width  Petal.Length  Petal.Width\n",
       "0       1.057901     1.117734      0.173023     0.102757\n",
       "1       0.863740     0.870338      0.152900     0.085246\n",
       "2       1.016088     1.044433      0.163492     0.097355\n",
       "3       0.956690     0.972491      0.158712     0.090433\n",
       "4       0.885750     0.881447      0.153964     0.084819\n",
       "5       0.945689     0.960318      0.164137     0.090509\n",
       "6       1.060098     1.082529      0.179663     0.100566\n",
       "7       0.946054     0.973571      0.154197     0.089420\n",
       "8       0.937658     0.969411      0.154940     0.088958\n",
       "9       0.957878     0.992632      0.167878     0.093523\n",
       "10      0.983474     1.010879      0.169159     0.095283\n",
       "11      0.985349     1.016767      0.161516     0.095230\n",
       "12      0.937886     0.960006      0.156718     0.090199\n",
       "13      1.011329     1.038164      0.171904     0.096254\n",
       "14      1.021166     1.038239      0.175619     0.098263\n",
       "15      0.895966     0.903183      0.157238     0.087462\n",
       "16      1.036609     1.051496      0.172807     0.100323\n",
       "17      1.027340     1.098251      0.164818     0.098686\n",
       "18      0.942028     0.957634      0.161804     0.093311\n",
       "19      1.075940     1.094296      0.173882     0.101766\n",
       "20      0.975622     1.015358      0.162055     0.094180\n",
       "21      1.034843     1.053836      0.178161     0.100231\n",
       "22      0.923101     0.940973      0.158092     0.089080\n",
       "23      1.082109     1.109127      0.175327     0.103387\n",
       "24      1.021831     1.039198      0.173402     0.097256\n",
       "25      1.050664     1.090968      0.178518     0.101184\n",
       "26      1.001470     0.998082      0.176705     0.096737\n",
       "27      1.051543     1.105778      0.181146     0.104206\n",
       "28      1.031900     1.075116      0.167967     0.099095\n",
       "29      1.060151     1.091605      0.178208     0.101444\n",
       "..           ...          ...           ...          ...\n",
       "70      0.984672     1.025297      0.167671     0.096040\n",
       "71      1.067682     1.121351      0.178910     0.103292\n",
       "72      0.964865     0.974647      0.160777     0.091813\n",
       "73      0.959438     0.985726      0.162777     0.093894\n",
       "74      1.040545     1.086273      0.180405     0.101005\n",
       "75      1.002791     1.005122      0.166048     0.095739\n",
       "76      0.989936     1.014758      0.169477     0.096129\n",
       "77      0.934893     0.947414      0.155152     0.089814\n",
       "78      1.077393     1.141529      0.176818     0.102831\n",
       "79      1.087388     1.126647      0.183400     0.105623\n",
       "80      1.107945     1.133579      0.179040     0.105378\n",
       "81      1.032982     1.102440      0.163067     0.097760\n",
       "82      1.029021     1.061555      0.173274     0.097591\n",
       "83      0.979335     0.995474      0.168643     0.095520\n",
       "84      1.006090     1.029208      0.174018     0.096170\n",
       "85      1.009589     1.067582      0.167847     0.098346\n",
       "86      0.952149     0.986085      0.163527     0.091505\n",
       "87      0.946244     0.938415      0.162014     0.089709\n",
       "88      0.984056     0.993144      0.167357     0.095813\n",
       "89      0.937259     0.945337      0.166012     0.091039\n",
       "90      0.923161     0.921061      0.160222     0.090270\n",
       "91      0.982137     0.960484      0.167928     0.093953\n",
       "92      0.941598     0.957713      0.159436     0.092648\n",
       "93      1.063275     1.069848      0.178551     0.103257\n",
       "94      1.026641     1.071219      0.163736     0.097084\n",
       "95      1.025142     1.036670      0.174401     0.098826\n",
       "96      0.932442     0.944133      0.158445     0.087067\n",
       "97      0.980943     0.993095      0.170009     0.094593\n",
       "98      0.933822     0.930244      0.170800     0.092771\n",
       "99      1.001347     1.026363      0.171895     0.096993\n",
       "\n",
       "[100 rows x 4 columns]"
      ]
     },
     "execution_count": 173,
     "metadata": {},
     "output_type": "execute_result"
    }
   ],
   "source": [
    "final_df"
   ]
  },
  {
   "cell_type": "code",
   "execution_count": 171,
   "metadata": {},
   "outputs": [],
   "source": [
    "feature = 'Sepal.Length'\n",
    "species = 'setosa'\n",
    "minimum_val = dataframe[dataframe['Species'] == species][feature].min()\n",
    "maximum_val = dataframe[dataframe['Species'] == species][feature].max()"
   ]
  },
  {
   "cell_type": "code",
   "execution_count": null,
   "metadata": {},
   "outputs": [],
   "source": []
  },
  {
   "cell_type": "code",
   "execution_count": null,
   "metadata": {},
   "outputs": [],
   "source": []
  },
  {
   "cell_type": "code",
   "execution_count": 166,
   "metadata": {},
   "outputs": [
    {
     "data": {
      "text/plain": [
       "MinMaxScaler(copy=True, feature_range=(0, 1))"
      ]
     },
     "execution_count": 166,
     "metadata": {},
     "output_type": "execute_result"
    }
   ],
   "source": [
    "scaler = MinMaxScaler()\n",
    "scaler.fit(dataframe['Sepal.Length'].values.reshape(-1, 1))"
   ]
  },
  {
   "cell_type": "code",
   "execution_count": 167,
   "metadata": {},
   "outputs": [
    {
     "data": {
      "text/plain": [
       "array([[-0.90058319],\n",
       "       [-0.95451656],\n",
       "       [-0.91219788],\n",
       "       [-0.92869722],\n",
       "       [-0.94840267],\n",
       "       [-0.93175301],\n",
       "       [-0.89997272],\n",
       "       [-0.93165155],\n",
       "       [-0.93398378],\n",
       "       [-0.92836733],\n",
       "       [-0.92125717],\n",
       "       [-0.92073637],\n",
       "       [-0.93392052],\n",
       "       [-0.91351973],\n",
       "       [-0.91078723],\n",
       "       [-0.94556508],\n",
       "       [-0.90649763],\n",
       "       [-0.9090721 ],\n",
       "       [-0.93277011],\n",
       "       [-0.89557228],\n",
       "       [-0.92343833],\n",
       "       [-0.90698808],\n",
       "       [-0.9380276 ],\n",
       "       [-0.8938586 ],\n",
       "       [-0.91060252],\n",
       "       [-0.9025934 ],\n",
       "       [-0.91625836],\n",
       "       [-0.90234915],\n",
       "       [-0.90780551],\n",
       "       [-0.89995815],\n",
       "       [-0.91006093],\n",
       "       [-0.94034873],\n",
       "       [-0.92270532],\n",
       "       [-0.93637693],\n",
       "       [-0.94316411],\n",
       "       [-0.90744314],\n",
       "       [-0.93386251],\n",
       "       [-0.91316614],\n",
       "       [-0.92661654],\n",
       "       [-0.92453834],\n",
       "       [-0.89834383],\n",
       "       [-0.91728948],\n",
       "       [-0.91193747],\n",
       "       [-0.91735792],\n",
       "       [-0.92459661],\n",
       "       [-0.92997626],\n",
       "       [-0.91523561],\n",
       "       [-0.94623801],\n",
       "       [-0.95067157],\n",
       "       [-0.93143886],\n",
       "       [-0.92870604],\n",
       "       [-0.9194018 ],\n",
       "       [-0.90841834],\n",
       "       [-0.94850445],\n",
       "       [-0.92843443],\n",
       "       [-0.93776071],\n",
       "       [-0.93106075],\n",
       "       [-0.93143448],\n",
       "       [-0.93230761],\n",
       "       [-0.919778  ],\n",
       "       [-0.91605727],\n",
       "       [-0.91759241],\n",
       "       [-0.92914579],\n",
       "       [-0.90533333],\n",
       "       [-0.89835036],\n",
       "       [-0.90887469],\n",
       "       [-0.90210577],\n",
       "       [-0.91165651],\n",
       "       [-0.91879436],\n",
       "       [-0.9751789 ],\n",
       "       [-0.92092446],\n",
       "       [-0.8978661 ],\n",
       "       [-0.92642653],\n",
       "       [-0.92793385],\n",
       "       [-0.90540426],\n",
       "       [-0.91589145],\n",
       "       [-0.9194622 ],\n",
       "       [-0.93475197],\n",
       "       [-0.89516861],\n",
       "       [-0.89239227],\n",
       "       [-0.88668201],\n",
       "       [-0.9075049 ],\n",
       "       [-0.90860526],\n",
       "       [-0.92240695],\n",
       "       [-0.91497491],\n",
       "       [-0.91400315],\n",
       "       [-0.92995859],\n",
       "       [-0.93159886],\n",
       "       [-0.92109554],\n",
       "       [-0.93409461],\n",
       "       [-0.93801084],\n",
       "       [-0.92162847],\n",
       "       [-0.93288953],\n",
       "       [-0.89909021],\n",
       "       [-0.90926649],\n",
       "       [-0.90968266],\n",
       "       [-0.93543286],\n",
       "       [-0.92196042],\n",
       "       [-0.93504945],\n",
       "       [-0.91629241]])"
      ]
     },
     "execution_count": 167,
     "metadata": {},
     "output_type": "execute_result"
    }
   ],
   "source": [
    "scaler.transform(final_df['Sepal.Length'].values.reshape(-1, 1))"
   ]
  },
  {
   "cell_type": "code",
   "execution_count": null,
   "metadata": {},
   "outputs": [],
   "source": []
  },
  {
   "cell_type": "code",
   "execution_count": 155,
   "metadata": {},
   "outputs": [
    {
     "data": {
      "text/plain": [
       "0.9858969532163627"
      ]
     },
     "execution_count": 155,
     "metadata": {},
     "output_type": "execute_result"
    }
   ],
   "source": [
    "final_df['Sepal.Length'].mean()"
   ]
  },
  {
   "cell_type": "code",
   "execution_count": null,
   "metadata": {},
   "outputs": [],
   "source": [
    "# Problem 4"
   ]
  },
  {
   "cell_type": "code",
   "execution_count": 78,
   "metadata": {},
   "outputs": [],
   "source": [
    "machine_learning = pd.read_csv('machine_learning.csv')"
   ]
  },
  {
   "cell_type": "code",
   "execution_count": 79,
   "metadata": {},
   "outputs": [],
   "source": [
    "data_science = pd.read_csv('data_science.csv')"
   ]
  },
  {
   "cell_type": "code",
   "execution_count": 80,
   "metadata": {},
   "outputs": [
    {
     "data": {
      "text/html": [
       "<div>\n",
       "<style scoped>\n",
       "    .dataframe tbody tr th:only-of-type {\n",
       "        vertical-align: middle;\n",
       "    }\n",
       "\n",
       "    .dataframe tbody tr th {\n",
       "        vertical-align: top;\n",
       "    }\n",
       "\n",
       "    .dataframe thead th {\n",
       "        text-align: right;\n",
       "    }\n",
       "</style>\n",
       "<table border=\"1\" class=\"dataframe\">\n",
       "  <thead>\n",
       "    <tr style=\"text-align: right;\">\n",
       "      <th></th>\n",
       "      <th>Year</th>\n",
       "      <th>Number of Documents</th>\n",
       "    </tr>\n",
       "  </thead>\n",
       "  <tbody>\n",
       "    <tr>\n",
       "      <th>0</th>\n",
       "      <td>2008</td>\n",
       "      <td>5705</td>\n",
       "    </tr>\n",
       "    <tr>\n",
       "      <th>1</th>\n",
       "      <td>2009</td>\n",
       "      <td>6027</td>\n",
       "    </tr>\n",
       "    <tr>\n",
       "      <th>2</th>\n",
       "      <td>2010</td>\n",
       "      <td>6465</td>\n",
       "    </tr>\n",
       "    <tr>\n",
       "      <th>3</th>\n",
       "      <td>2011</td>\n",
       "      <td>7054</td>\n",
       "    </tr>\n",
       "    <tr>\n",
       "      <th>4</th>\n",
       "      <td>2012</td>\n",
       "      <td>7818</td>\n",
       "    </tr>\n",
       "    <tr>\n",
       "      <th>5</th>\n",
       "      <td>2013</td>\n",
       "      <td>9094</td>\n",
       "    </tr>\n",
       "    <tr>\n",
       "      <th>6</th>\n",
       "      <td>2014</td>\n",
       "      <td>10907</td>\n",
       "    </tr>\n",
       "    <tr>\n",
       "      <th>7</th>\n",
       "      <td>2015</td>\n",
       "      <td>13297</td>\n",
       "    </tr>\n",
       "    <tr>\n",
       "      <th>8</th>\n",
       "      <td>2016</td>\n",
       "      <td>16514</td>\n",
       "    </tr>\n",
       "    <tr>\n",
       "      <th>9</th>\n",
       "      <td>2017</td>\n",
       "      <td>22091</td>\n",
       "    </tr>\n",
       "    <tr>\n",
       "      <th>10</th>\n",
       "      <td>2018</td>\n",
       "      <td>33723</td>\n",
       "    </tr>\n",
       "  </tbody>\n",
       "</table>\n",
       "</div>"
      ],
      "text/plain": [
       "    Year  Number of Documents\n",
       "0   2008                 5705\n",
       "1   2009                 6027\n",
       "2   2010                 6465\n",
       "3   2011                 7054\n",
       "4   2012                 7818\n",
       "5   2013                 9094\n",
       "6   2014                10907\n",
       "7   2015                13297\n",
       "8   2016                16514\n",
       "9   2017                22091\n",
       "10  2018                33723"
      ]
     },
     "execution_count": 80,
     "metadata": {},
     "output_type": "execute_result"
    }
   ],
   "source": [
    "machine_learning"
   ]
  },
  {
   "cell_type": "code",
   "execution_count": 87,
   "metadata": {},
   "outputs": [],
   "source": [
    "subject = 'Machine Learning'\n",
    "def subject_graph(subject, subject_name):\n",
    "    df = pd.read_csv(subject_name + '.csv')\n",
    "    fig, ax = plt.subplots(figsize = (10, 5))\n",
    "    plt.plot(df['Year'], df['Number of Documents'])\n",
    "    ax.set_title('Number of Documents Published by Year for ' + subject)\n",
    "    ax.set_xlabel('Year')\n",
    "    ax.set_ylabel('Number of Documents')\n",
    "    ax.spines['top'].set_visible(False)\n",
    "    ax.spines['right'].set_visible(False)\n"
   ]
  },
  {
   "cell_type": "code",
   "execution_count": 88,
   "metadata": {},
   "outputs": [
    {
     "data": {
      "image/png": "[encoded data removed]",
      "text/plain": [
       "<Figure size 720x360 with 1 Axes>"
      ]
     },
     "metadata": {},
     "output_type": "display_data"
    }
   ],
   "source": [
    "subject_graph('Machine Learning', 'machine_learning')"
   ]
  },
  {
   "cell_type": "code",
   "execution_count": 90,
   "metadata": {
    "scrolled": true
   },
   "outputs": [
    {
     "data": {
      "image/png": "[encoded data removed]",
      "text/plain": [
       "<Figure size 720x360 with 1 Axes>"
      ]
     },
     "metadata": {},
     "output_type": "display_data"
    }
   ],
   "source": [
    "subject_graph('Data Science', 'data_science')"
   ]
  },
  {
   "cell_type": "code",
   "execution_count": null,
   "metadata": {},
   "outputs": [],
   "source": []
  }
 ],
 "metadata": {
  "kernelspec": {
   "display_name": "Python 3",
   "language": "python",
   "name": "python3"
  },
  "language_info": {
   "codemirror_mode": {
    "name": "ipython",
    "version": 3
   },
   "file_extension": ".py",
   "mimetype": "text/x-python",
   "name": "python",
   "nbconvert_exporter": "python",
   "pygments_lexer": "ipython3",
   "version": "3.6.5"
  }
 },
 "nbformat": 4,
 "nbformat_minor": 2
}
