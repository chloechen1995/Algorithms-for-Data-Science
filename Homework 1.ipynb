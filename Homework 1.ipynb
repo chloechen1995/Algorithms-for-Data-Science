{
 "cells": [
  {
   "cell_type": "code",
   "execution_count": 1,
   "metadata": {},
   "outputs": [],
   "source": [
    "import pandas as pd\n",
    "import matplotlib.pyplot as plt\n",
    "import matplotlib.patches as mpatches\n",
    "%matplotlib inline\n",
    "import math"
   ]
  },
  {
   "cell_type": "code",
   "execution_count": 2,
   "metadata": {},
   "outputs": [],
   "source": [
    "# Problem 1: Implement an algorithm to read in the Iris dataset."
   ]
  },
  {
   "cell_type": "code",
   "execution_count": 16,
   "metadata": {},
   "outputs": [],
   "source": [
    "iris = pd.read_csv('iris.csv')"
   ]
  },
  {
   "cell_type": "code",
   "execution_count": 17,
   "metadata": {},
   "outputs": [
    {
     "data": {
      "text/html": [
       "<div>\n",
       "<style scoped>\n",
       "    .dataframe tbody tr th:only-of-type {\n",
       "        vertical-align: middle;\n",
       "    }\n",
       "\n",
       "    .dataframe tbody tr th {\n",
       "        vertical-align: top;\n",
       "    }\n",
       "\n",
       "    .dataframe thead th {\n",
       "        text-align: right;\n",
       "    }\n",
       "</style>\n",
       "<table border=\"1\" class=\"dataframe\">\n",
       "  <thead>\n",
       "    <tr style=\"text-align: right;\">\n",
       "      <th></th>\n",
       "      <th>Sepal.Length</th>\n",
       "      <th>Sepal.Width</th>\n",
       "      <th>Petal.Length</th>\n",
       "      <th>Petal.Width</th>\n",
       "      <th>Species</th>\n",
       "    </tr>\n",
       "  </thead>\n",
       "  <tbody>\n",
       "    <tr>\n",
       "      <th>0</th>\n",
       "      <td>5.1</td>\n",
       "      <td>3.5</td>\n",
       "      <td>1.4</td>\n",
       "      <td>0.2</td>\n",
       "      <td>setosa</td>\n",
       "    </tr>\n",
       "    <tr>\n",
       "      <th>1</th>\n",
       "      <td>4.9</td>\n",
       "      <td>3.0</td>\n",
       "      <td>1.4</td>\n",
       "      <td>0.2</td>\n",
       "      <td>setosa</td>\n",
       "    </tr>\n",
       "    <tr>\n",
       "      <th>2</th>\n",
       "      <td>4.7</td>\n",
       "      <td>3.2</td>\n",
       "      <td>1.3</td>\n",
       "      <td>0.2</td>\n",
       "      <td>setosa</td>\n",
       "    </tr>\n",
       "    <tr>\n",
       "      <th>3</th>\n",
       "      <td>4.6</td>\n",
       "      <td>3.1</td>\n",
       "      <td>1.5</td>\n",
       "      <td>0.2</td>\n",
       "      <td>setosa</td>\n",
       "    </tr>\n",
       "    <tr>\n",
       "      <th>4</th>\n",
       "      <td>5.0</td>\n",
       "      <td>3.6</td>\n",
       "      <td>1.4</td>\n",
       "      <td>0.2</td>\n",
       "      <td>setosa</td>\n",
       "    </tr>\n",
       "  </tbody>\n",
       "</table>\n",
       "</div>"
      ],
      "text/plain": [
       "   Sepal.Length  Sepal.Width  Petal.Length  Petal.Width Species\n",
       "0           5.1          3.5           1.4          0.2  setosa\n",
       "1           4.9          3.0           1.4          0.2  setosa\n",
       "2           4.7          3.2           1.3          0.2  setosa\n",
       "3           4.6          3.1           1.5          0.2  setosa\n",
       "4           5.0          3.6           1.4          0.2  setosa"
      ]
     },
     "execution_count": 17,
     "metadata": {},
     "output_type": "execute_result"
    }
   ],
   "source": [
    "iris.head()"
   ]
  },
  {
   "cell_type": "code",
   "execution_count": 4,
   "metadata": {},
   "outputs": [],
   "source": [
    "# Problem 2: Implement an algorithm to visually see two sets of features and the class they belong to."
   ]
  },
  {
   "cell_type": "code",
   "execution_count": 5,
   "metadata": {},
   "outputs": [
    {
     "data": {
      "text/plain": [
       "Index(['Sepal.Length', 'Sepal.Width', 'Petal.Length', 'Petal.Width',\n",
       "       'Species'],\n",
       "      dtype='object')"
      ]
     },
     "execution_count": 5,
     "metadata": {},
     "output_type": "execute_result"
    }
   ],
   "source": [
    "iris.columns"
   ]
  },
  {
   "cell_type": "code",
   "execution_count": 6,
   "metadata": {},
   "outputs": [],
   "source": [
    "feature_1 = 'Sepal.Width'\n",
    "feature_2 = 'Petal.Width'"
   ]
  },
  {
   "cell_type": "code",
   "execution_count": 7,
   "metadata": {},
   "outputs": [],
   "source": [
    "def feature_display(feature_1, feature_2):\n",
    "    colors = {\"setosa\": 'red', 'versicolor': 'blue', 'virginica': 'black'}\n",
    "\n",
    "    fig, ax = plt.subplots(figsize = (10, 5))\n",
    "    ax.scatter(iris[feature_1], iris[feature_2], color = iris['Species'].apply(lambda x: colors[x]))\n",
    "    ax.set_title(feature_1 + ' vs ' + feature_2 + ' by species')\n",
    "    ax.set_xlabel(feature_1)\n",
    "    ax.set_ylabel(feature_2)\n",
    "    ax.spines['top'].set_visible(False)\n",
    "    ax.spines['right'].set_visible(False)\n",
    "    \n",
    "    patchlist = []\n",
    "\n",
    "    for c in colors:\n",
    "        data_key = mpatches.Patch(color = colors[c], label = c)\n",
    "        patchlist.append(data_key)\n",
    "\n",
    "    plt.legend(handles = patchlist)\n",
    "    \n",
    "    plt.show()\n"
   ]
  },
  {
   "cell_type": "code",
   "execution_count": 8,
   "metadata": {},
   "outputs": [
    {
     "data": {
      "image/png": "[encoded data removed]",
      "text/plain": [
       "<Figure size 720x360 with 1 Axes>"
      ]
     },
     "metadata": {
      "needs_background": "light"
     },
     "output_type": "display_data"
    }
   ],
   "source": [
    "feature_display(feature_1, feature_2)"
   ]
  },
  {
   "cell_type": "markdown",
   "metadata": {},
   "source": [
    "# Problem 3: Develop an algorithm to sort the five features in the dataset to determine if any of the five sorted features can separate the three plant types. Show the efficiency of your sorting algorithm based on its ability to sort the five sets of features."
   ]
  },
  {
   "cell_type": "markdown",
   "metadata": {},
   "source": [
    "Given: Sepal length, Sepal width, Petal length and Petal width\n",
    "\n",
    "Goal: Determine what species the plant is ('setosa', 'versicolor', 'virginica') using a sorting algorithm, we also need to show the efficiency of the algorithm\n"
   ]
  },
  {
   "cell_type": "markdown",
   "metadata": {},
   "source": [
    "1) Use the groupby function to check the average Sepal.Length, Sepal.Width and Petal.Length. We use this information to assign the new class after sorting"
   ]
  },
  {
   "cell_type": "code",
   "execution_count": 10,
   "metadata": {},
   "outputs": [
    {
     "data": {
      "text/html": [
       "<div>\n",
       "<style scoped>\n",
       "    .dataframe tbody tr th:only-of-type {\n",
       "        vertical-align: middle;\n",
       "    }\n",
       "\n",
       "    .dataframe tbody tr th {\n",
       "        vertical-align: top;\n",
       "    }\n",
       "\n",
       "    .dataframe thead th {\n",
       "        text-align: right;\n",
       "    }\n",
       "</style>\n",
       "<table border=\"1\" class=\"dataframe\">\n",
       "  <thead>\n",
       "    <tr style=\"text-align: right;\">\n",
       "      <th></th>\n",
       "      <th>Sepal.Length</th>\n",
       "      <th>Sepal.Width</th>\n",
       "      <th>Petal.Length</th>\n",
       "      <th>Petal.Width</th>\n",
       "    </tr>\n",
       "    <tr>\n",
       "      <th>Species</th>\n",
       "      <th></th>\n",
       "      <th></th>\n",
       "      <th></th>\n",
       "      <th></th>\n",
       "    </tr>\n",
       "  </thead>\n",
       "  <tbody>\n",
       "    <tr>\n",
       "      <th>setosa</th>\n",
       "      <td>5.006</td>\n",
       "      <td>3.428</td>\n",
       "      <td>1.462</td>\n",
       "      <td>0.246</td>\n",
       "    </tr>\n",
       "    <tr>\n",
       "      <th>versicolor</th>\n",
       "      <td>5.936</td>\n",
       "      <td>2.770</td>\n",
       "      <td>4.260</td>\n",
       "      <td>1.326</td>\n",
       "    </tr>\n",
       "    <tr>\n",
       "      <th>virginica</th>\n",
       "      <td>6.588</td>\n",
       "      <td>2.974</td>\n",
       "      <td>5.552</td>\n",
       "      <td>2.026</td>\n",
       "    </tr>\n",
       "  </tbody>\n",
       "</table>\n",
       "</div>"
      ],
      "text/plain": [
       "            Sepal.Length  Sepal.Width  Petal.Length  Petal.Width\n",
       "Species                                                         \n",
       "setosa             5.006        3.428         1.462        0.246\n",
       "versicolor         5.936        2.770         4.260        1.326\n",
       "virginica          6.588        2.974         5.552        2.026"
      ]
     },
     "execution_count": 10,
     "metadata": {},
     "output_type": "execute_result"
    }
   ],
   "source": [
    "groupby_df = iris.groupby(['Species'])['Sepal.Length', 'Sepal.Width', 'Petal.Length', 'Petal.Width'].mean()"
   ]
  },
  {
   "cell_type": "code",
   "execution_count": 11,
   "metadata": {},
   "outputs": [],
   "source": [
    "# create a dictionary to store the class assignment for each feature based on its measurement \n",
    "# (from the smallest to the largest)\n",
    "\n",
    "class_assigned = {'Sepal.Length': ['setosa', 'versicolor', 'virginica'], \n",
    "                  'Sepal.Width': ['versicolor', 'virginica', 'setosa'],\n",
    "                 'Petal.Length': ['setosa', 'versicolor', 'virginica'],\n",
    "                 'Petal.Width': ['setosa', 'versicolor', 'virginica']}"
   ]
  },
  {
   "cell_type": "code",
   "execution_count": 12,
   "metadata": {},
   "outputs": [],
   "source": [
    "def merge(list_input, left_list, right_list):\n",
    "    i = 0\n",
    "    j = 0\n",
    "    \n",
    "    result = []\n",
    "    \n",
    "    while i < len(left_list) and j < len(right_list):\n",
    "        # if the value in the left list is less than or equal to the value in the right list, we append it to the result list\n",
    "        if left_list[i] <= right_list[j]:\n",
    "            result.append(left_list[i])\n",
    "            i = i + 1\n",
    "        else:\n",
    "            # otherwise, append the value in the right list\n",
    "            result.append(right_list[j])\n",
    "            j = j + 1\n",
    "    \n",
    "    # append the leftover value in the left and right list\n",
    "    while i < len(left_list):\n",
    "        result.append(left_list[i])\n",
    "        i = i + 1\n",
    "    \n",
    "    while j < len(right_list):\n",
    "        result.append(right_list[j])\n",
    "        j = j + 1\n",
    "    return result"
   ]
  },
  {
   "cell_type": "code",
   "execution_count": 13,
   "metadata": {},
   "outputs": [],
   "source": [
    "def merge_sort(list_input):\n",
    "    # recursively call the merge function until it only has one value left\n",
    "    if len(list_input) > 1:\n",
    "        mid = len(list_input)//2\n",
    "        left_list = list_input[:mid]\n",
    "        right_list = list_input[mid:]\n",
    "        merge_sort(left_list)\n",
    "        merge_sort(right_list)\n",
    "        return merge(list_input, left_list, right_list)"
   ]
  },
  {
   "cell_type": "code",
   "execution_count": 14,
   "metadata": {},
   "outputs": [],
   "source": [
    "def class_accuracy(dataframe, feature):\n",
    "    # convert the column values into a list\n",
    "    list_input = dataframe[feature].tolist()\n",
    "    # merge sort the list\n",
    "    output_array = merge_sort(list_input)\n",
    "    # convert the sorted result into a column\n",
    "    feature_series = pd.Series(output_array)\n",
    "    # create a column to store the predicted class value\n",
    "    final_list = []\n",
    "    for key in class_assigned[feature]:\n",
    "        class_list = []\n",
    "        class_list = [key] * len(iris[iris['Species'] == key])\n",
    "        final_list.append(class_list)\n",
    "    class_series = pd.Series([item for sublist in final_list for item in sublist])\n",
    "    # create a dataframe to store the feature value and its predicted class value\n",
    "    classified_df = pd.concat([class_series, feature_series], axis = 1)\n",
    "    classified_df.columns = ['Species_Predicted', feature]\n",
    "    # gather the original data\n",
    "    original_df = dataframe[[feature, 'Species']]\n",
    "    # sort the original dataframe\n",
    "    original_df_sorted = original_df.sort_values(feature).reset_index(drop = True)\n",
    "    # compare the predicted class with the original class to see how well our algorithm in sorting the \n",
    "    merge_df = pd.concat([original_df_sorted, classified_df], axis = 1)\n",
    "    num_correct_percentage = sum(merge_df['Species'] == merge_df['Species_Predicted']) / len(merge_df)\n",
    "    return num_correct_percentage\n"
   ]
  },
  {
   "cell_type": "code",
   "execution_count": 15,
   "metadata": {},
   "outputs": [
    {
     "name": "stdout",
     "output_type": "stream",
     "text": [
      "The sorting algorithm using Sepal.Length has an accuracy of 74.0%\n",
      "The sorting algorithm using Sepal.Width has an accuracy of 59.3%\n",
      "The sorting algorithm using Petal.Length has an accuracy of 96.0%\n",
      "The sorting algorithm using Petal.Width has an accuracy of 94.7%\n"
     ]
    }
   ],
   "source": [
    "dataframe = iris\n",
    "feature_list = ['Sepal.Length', 'Sepal.Width', 'Petal.Length', 'Petal.Width']\n",
    "for feature in feature_list:\n",
    "    print('The sorting algorithm using ' + feature + \" has an accuracy of \" + str(\"{0:.1%}\".format(class_accuracy(dataframe, feature))))\n",
    "    \n",
    "    "
   ]
  },
  {
   "cell_type": "code",
   "execution_count": null,
   "metadata": {},
   "outputs": [],
   "source": []
  }
 ],
 "metadata": {
  "kernelspec": {
   "display_name": "Python 3",
   "language": "python",
   "name": "python3"
  },
  "language_info": {
   "codemirror_mode": {
    "name": "ipython",
    "version": 3
   },
   "file_extension": ".py",
   "mimetype": "text/x-python",
   "name": "python",
   "nbconvert_exporter": "python",
   "pygments_lexer": "ipython3",
   "version": "3.7.1"
  }
 },
 "nbformat": 4,
 "nbformat_minor": 2
}
